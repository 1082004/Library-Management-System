{
  "nbformat": 4,
  "nbformat_minor": 0,
  "metadata": {
    "colab": {
      "provenance": []
    },
    "kernelspec": {
      "name": "python3",
      "display_name": "Python 3"
    },
    "language_info": {
      "name": "python"
    }
  },
  "cells": [
    {
      "cell_type": "code",
      "execution_count": null,
      "metadata": {
        "colab": {
          "base_uri": "https://localhost:8080/"
        },
        "id": "g8S5nB2u5-gy",
        "outputId": "470a37f0-c689-4d4b-8d43-fd1fe0ed0c90"
      },
      "outputs": [
        {
          "name": "stdout",
          "output_type": "stream",
          "text": [
            "Enter the service (add Member, add Book, borrow book, return book, detailed report, exit): add Member\n",
            "Enter the name : Hanan\n",
            "Member Hanan added successfully.\n",
            "Enter the service (add Member, add Book, borrow book, return book, detailed report, exit): add Book\n",
            "Enter the book name : Hands on ML\n",
            "Book Hands on ML added successfully.\n",
            "Enter the service (add Member, add Book, borrow book, return book, detailed report, exit): borrow book\n",
            "Enter the name : Hanan\n",
            "Enter the book name : Hands on ML\n",
            "Book Hands on ML borrowed by Hanan successfully.\n",
            "Enter the service (add Member, add Book, borrow book, return book, detailed report, exit): detailed report\n",
            "Enter the name : Hanan\n",
            "Books borrowed by Hanan: ['Hands on ML']\n",
            "Books returned by Hanan: []\n",
            "Enter the service (add Member, add Book, borrow book, return book, detailed report, exit): exit\n"
          ]
        }
      ],
      "source": [
        "Books = {}\n",
        "Members = {}\n",
        "borrowedbooks = {}\n",
        "returnedbooks = {}\n",
        "Member_Report = {}\n",
        "\n",
        "def add_member():\n",
        "    Member_name = input(\"Enter the name : \")\n",
        "    if Member_name in Members:\n",
        "        print(f\"Member {Member_name} already exists.\")\n",
        "    else:\n",
        "        Members[Member_name] = []\n",
        "        print(f\"Member {Member_name} added successfully.\")\n",
        "\n",
        "def add_book():\n",
        "    Book_name = input(\"Enter the book name : \")\n",
        "    if Book_name in Books:\n",
        "        print(f\"Book {Book_name} already exists.\")\n",
        "    else:\n",
        "        Books[Book_name] = True\n",
        "        print(f\"Book {Book_name} added successfully.\")\n",
        "\n",
        "def borrow_book():\n",
        "    Member_name = input(\"Enter the name : \")\n",
        "    Book_name = input(\"Enter the book name : \")\n",
        "    if Member_name not in Members:\n",
        "        print(f\"Member {Member_name} doesn't exist.\")\n",
        "    elif Book_name not in Books:\n",
        "        print(f\"Book {Book_name} doesn't exist.\")\n",
        "    elif Book_name in borrowedbooks:\n",
        "        print(f\"Book {Book_name} is already borrowed.\")\n",
        "    else:\n",
        "        borrowedbooks[Book_name] = Member_name\n",
        "        Members[Member_name].append(Book_name)\n",
        "        Books[Book_name] = False\n",
        "        print(f\"Book {Book_name} borrowed by {Member_name} successfully.\")\n",
        "\n",
        "def return_book():\n",
        "    Member_name = input(\"Enter the name : \")\n",
        "    Book_name = input(\"Enter the book name : \")\n",
        "    if Member_name not in Members:\n",
        "        print(f\"Member {Member_name} doesn't exist.\")\n",
        "    elif Book_name not in Books:\n",
        "        print(f\"Book {Book_name} doesn't exist.\")\n",
        "    elif Book_name not in borrowedbooks or borrowedbooks[Book_name] != Member_name:\n",
        "        print(f\"Book {Book_name} was not borrowed by {Member_name}.\")\n",
        "    else:\n",
        "        returnedbooks[Book_name] = Member_name\n",
        "        Members[Member_name].remove(Book_name)\n",
        "        del borrowedbooks[Book_name]\n",
        "        Books[Book_name] = True\n",
        "        print(f\"Book {Book_name} returned by {Member_name} successfully.\")\n",
        "\n",
        "def member_report():\n",
        "    Member_name = input(\"Enter the name : \")\n",
        "    if Member_name not in Members:\n",
        "        print(f\"Member {Member_name} doesn't exist.\")\n",
        "    else:\n",
        "        borrowed = [book for book, member in borrowedbooks.items() if member == Member_name]\n",
        "        returned = [book for book, member in returnedbooks.items() if member == Member_name]\n",
        "        print(f\"Books borrowed by {Member_name}: {borrowed}\")\n",
        "        print(f\"Books returned by {Member_name}: {returned}\")\n",
        "\n",
        "def main():\n",
        "    while True:\n",
        "        n = input(\"Enter the service (add Member, add Book, borrow book, return book, detailed report, exit): \")\n",
        "        if n == \"add Member\":\n",
        "            add_member()\n",
        "        elif n == \"add Book\":\n",
        "            add_book()\n",
        "        elif n == \"borrow book\":\n",
        "            borrow_book()\n",
        "        elif n == \"return book\":\n",
        "            return_book()\n",
        "        elif n == \"detailed report\":\n",
        "            member_report()\n",
        "        elif n == \"exit\":\n",
        "            break\n",
        "        else:\n",
        "            print(\"invalid service. please try again.\")\n",
        "\n",
        "if __name__ == \"__main__\":\n",
        "    main()\n"
      ]
    }
  ]
}